{
 "cells": [
  {
   "cell_type": "markdown",
   "metadata": {},
   "source": [
    "# 输入输出\n",
    "## numpy 二进制文件\n",
    "- save()、savez()和load()函数以 numpy 专用的二进制类型（npy、npz）保存和读取数据，这三个函数会自动处理ndim、dtype、shape等信息，使用它们读写数组非常方便，但是save()输出的文件很难与其它语言编写的程序兼容。\n",
    "\n",
    "- npy格式：以二进制的方式存储文件，在二进制文件第一行以文本形式保存了数据的元信息（ndim，dtype，shape等），可以用二进制工具查看内容。\n",
    "\n",
    "- npz格式：以压缩打包的方式存储文件，可以用压缩软件解压。"
   ]
  },
  {
   "cell_type": "code",
   "execution_count": 1,
   "metadata": {},
   "outputs": [
    {
     "name": "stdout",
     "output_type": "stream",
     "text": [
      "[[0.01123594 0.66790705 0.50212171 0.7230908  0.61668256]\n",
      " [0.00668332 0.1234096  0.96092409 0.67925305 0.38596837]\n",
      " [0.72342998 0.26258324 0.24318845 0.98795012 0.77370715]]\n"
     ]
    }
   ],
   "source": [
    "import numpy as np\n",
    "\n",
    "outfile = r'.\\test.npy'\n",
    "np.random.seed(20200619)\n",
    "x = np.random.uniform(0, 1, [3, 5])\n",
    "np.save(outfile, x)\n",
    "y = np.load(outfile)\n",
    "print(y)\n",
    "# [[0.01123594 0.66790705 0.50212171 0.7230908  0.61668256]\n",
    "#  [0.00668332 0.1234096  0.96092409 0.67925305 0.38596837]\n",
    "#  [0.72342998 0.26258324 0.24318845 0.98795012 0.77370715]]"
   ]
  },
  {
   "cell_type": "markdown",
   "metadata": {},
   "source": [
    "- numpy.save(file, arr, allow_pickle=True, fix_imports=True) Save an array to a binary file in NumPy .npy format.\n",
    "- numpy.load(file, mmap_mode=None, allow_pickle=False, fix_imports=True, encoding='ASCII') Load arrays or pickled objects from .npy, .npz or pickled files.\n",
    "- numpy.savez(file, *args, **kwds) Save several arrays into a single file in uncompressed .npz format."
   ]
  },
  {
   "cell_type": "markdown",
   "metadata": {},
   "source": [
    "savez()第一个参数是文件名，其后的参数都是需要保存的数组，也可以使用关键字参数为数组起一个名字，非关键字参数传递的数组会自动起名为arr_0, arr_1, …。\n",
    "\n",
    "savez()输出的是一个压缩文件（扩展名为npz），其中每个文件都是一个save()保存的npy文件，文件名对应于数组名。load()自动识别npz文件，并且返回一个类似于字典的对象，可以通过数组名作为关键字获取数组的内容。"
   ]
  },
  {
   "cell_type": "code",
   "execution_count": 3,
   "metadata": {},
   "outputs": [
    {
     "name": "stdout",
     "output_type": "stream",
     "text": [
      "['z_d', 'arr_0', 'arr_1']\n",
      "[0.         0.78539816 1.57079633 2.35619449 3.14159265]\n",
      "[0.         0.70710678 1.         0.70710678 0.        ]\n",
      "[ 1.          0.70710678  0.         -0.70710678 -1.        ]\n"
     ]
    }
   ],
   "source": [
    "#【例】将多个数组保存到一个文件，可以使用numpy.savez()函数。\n",
    "import numpy as np\n",
    "\n",
    "outfile = r'.\\test.npz'\n",
    "x = np.linspace(0, np.pi, 5)\n",
    "y = np.sin(x)\n",
    "z = np.cos(x)\n",
    "np.savez(outfile, x, y, z_d=z)\n",
    "data = np.load(outfile)\n",
    "np.set_printoptions(suppress=True)\n",
    "print(data.files)  \n",
    "# ['z_d', 'arr_0', 'arr_1']\n",
    "\n",
    "print(data['arr_0'])\n",
    "# [0.         0.78539816 1.57079633 2.35619449 3.14159265]\n",
    "\n",
    "print(data['arr_1'])\n",
    "# [0.         0.70710678 1.         0.70710678 0.        ]\n",
    "\n",
    "print(data['z_d'])\n",
    "# [ 1.          0.70710678  0.         -0.70710678 -1.        ]"
   ]
  },
  {
   "cell_type": "markdown",
   "metadata": {},
   "source": [
    "用解压软件打开 test.npz 文件，会发现其中有三个文件：arr_0.npy,arr_1.npy,z_d.npy，其中分别保存着数组x,y,z的内容。"
   ]
  },
  {
   "cell_type": "code",
   "execution_count": null,
   "metadata": {},
   "outputs": [],
   "source": []
  }
 ],
 "metadata": {
  "kernelspec": {
   "display_name": "Python 3",
   "language": "python",
   "name": "python3"
  },
  "language_info": {
   "codemirror_mode": {
    "name": "ipython",
    "version": 3
   },
   "file_extension": ".py",
   "mimetype": "text/x-python",
   "name": "python",
   "nbconvert_exporter": "python",
   "pygments_lexer": "ipython3",
   "version": "3.7.1"
  }
 },
 "nbformat": 4,
 "nbformat_minor": 2
}
