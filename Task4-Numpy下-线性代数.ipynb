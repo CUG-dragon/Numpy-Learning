{
 "cells": [
  {
   "cell_type": "markdown",
   "metadata": {},
   "source": [
    "## 线性代数\n",
    "[http://datawhale.club/t/topic/186/2]\n",
    "Numpy 定义了 matrix 类型，使用该 matrix 类型创建的是矩阵对象，它们的加减乘除运算缺省采用矩阵方式计算，因此用法和Matlab十分类似。但是由于 NumPy 中同时存在 ndarray 和 matrix 对象，因此用户很容易将两者弄混。这有违 Python 的“显式优于隐式”的原则，因此官方并不推荐在程序中使用 matrix。在这里，我们仍然用 ndarray 来介绍。\n",
    "\n",
    "## 矩阵和向量积\n",
    "矩阵的定义、矩阵的加法、矩阵的数乘、矩阵的转置与二维数组完全一致，不再进行说明，但矩阵的乘法有不同的表示。\n",
    "\n",
    "- numpy.dot(a, b[, out])计算两个矩阵的乘积，如果是一维数组则是它们的内积。"
   ]
  },
  {
   "cell_type": "code",
   "execution_count": 10,
   "metadata": {},
   "outputs": [
    {
     "name": "stdout",
     "output_type": "stream",
     "text": [
      "70\n",
      "[[1 2 3]\n",
      " [3 4 5]\n",
      " [6 7 8]]\n",
      "[[5 4 2]\n",
      " [1 7 9]\n",
      " [0 4 5]]\n",
      "[[  7  30  35]\n",
      " [ 19  60  67]\n",
      " [ 37 105 115]]\n",
      "[[ 29  40  51]\n",
      " [ 76  93 110]\n",
      " [ 42  51  60]]\n"
     ]
    }
   ],
   "source": [
    "import numpy as np\n",
    "\n",
    "x = np.array([1, 2, 3, 4, 5])\n",
    "y = np.array([2, 3, 4, 5, 6])\n",
    "z = np.dot(x, y)\n",
    "print(z)  # 70\n",
    "\n",
    "x = np.array([[1, 2, 3], [3, 4, 5], [6, 7, 8]])\n",
    "print(x)\n",
    "# [[1 2 3]\n",
    "#  [3 4 5]\n",
    "#  [6 7 8]]\n",
    "\n",
    "y = np.array([[5, 4, 2], [1, 7, 9], [0, 4, 5]])\n",
    "print(y)\n",
    "# [[5 4 2]\n",
    "#  [1 7 9]\n",
    "#  [0 4 5]]\n",
    "\n",
    "z = np.dot(x, y)\n",
    "print(z)\n",
    "# [[  7  30  35]\n",
    "#  [ 19  60  67]\n",
    "#  [ 37 105 115]]\n",
    "\n",
    "z = np.dot(y, x)\n",
    "print(z)\n",
    "# [[ 29  40  51]\n",
    "#  [ 76  93 110]\n",
    "#  [ 42  51  60]]"
   ]
  },
  {
   "cell_type": "markdown",
   "metadata": {},
   "source": [
    "注意：在线性代数里面讲的维数和数组的维数不同，如线代中提到的n维行向量在 Numpy 中是一维数组，而线性代数中的n维列向量在 Numpy 中是一个shape为(n, 1)的二维数组。\n",
    "\n",
    "## 矩阵特征值与特征向量\n",
    "numpy.linalg.eig(a) 计算方阵的特征值和特征向量。\n",
    "\n",
    "numpy.linalg.eigvals(a) 计算方阵的特征值。\n",
    "\n",
    "【例】求方阵的特征值特征向量"
   ]
  },
  {
   "cell_type": "code",
   "execution_count": 13,
   "metadata": {},
   "outputs": [
    {
     "name": "stdout",
     "output_type": "stream",
     "text": [
      "[[1 0 0]\n",
      " [0 2 0]\n",
      " [0 0 3]]\n",
      "[1. 2. 3.]\n",
      "[1. 2. 3.]\n",
      "[[1. 0. 0.]\n",
      " [0. 1. 0.]\n",
      " [0. 0. 1.]]\n",
      "Right\n",
      "Right\n",
      "Right\n"
     ]
    }
   ],
   "source": [
    "import numpy as np\n",
    "\n",
    "# 创建一个对角矩阵！\n",
    "x = np.diag((1, 2, 3))  \n",
    "print(x)\n",
    "# [[1 0 0]\n",
    "#  [0 2 0]\n",
    "#  [0 0 3]]\n",
    "\n",
    "print(np.linalg.eigvals(x))\n",
    "# [1. 2. 3.]\n",
    "\n",
    "a, b = np.linalg.eig(x)  \n",
    "# 特征值保存在a中，特征向量保存在b中\n",
    "print(a)\n",
    "# [1. 2. 3.]\n",
    "print(b)\n",
    "# [[1. 0. 0.]\n",
    "#  [0. 1. 0.]\n",
    "#  [0. 0. 1.]]\n",
    "\n",
    "# 检验特征值与特征向量是否正确\n",
    "for i in range(3): \n",
    "    if np.allclose(a[i] * b[:, i], np.dot(x, b[:, i])):\n",
    "        print('Right')\n",
    "    else:\n",
    "        print('Error')\n",
    "# Right\n",
    "# Right\n",
    "# Right\n",
    "\n"
   ]
  },
  {
   "cell_type": "code",
   "execution_count": 14,
   "metadata": {},
   "outputs": [
    {
     "name": "stdout",
     "output_type": "stream",
     "text": [
      "[[ 0  1  2  3]\n",
      " [ 4  5  6  7]\n",
      " [ 8  9 10 11]\n",
      " [12 13 14 15]]\n",
      "[[ 0  5 10 15]\n",
      " [ 5 10 15 20]\n",
      " [10 15 20 25]\n",
      " [15 20 25 30]]\n",
      "[ 6.74165739e+01 -7.41657387e+00  1.82694656e-15 -1.72637110e-15]\n",
      "No\n"
     ]
    }
   ],
   "source": [
    "#【例2】判断对称阵是否为正定阵（特征值是否全部为正）。\n",
    "\n",
    "import numpy as np\n",
    "\n",
    "A = np.arange(16).reshape(4, 4)\n",
    "print(A)\n",
    "# [[ 0  1  2  3]\n",
    "#  [ 4  5  6  7]\n",
    "#  [ 8  9 10 11]\n",
    "#  [12 13 14 15]]\n",
    "\n",
    "A = A + A.T  # 将方阵转换成对称阵\n",
    "print(A)\n",
    "# [[ 0  5 10 15]\n",
    "#  [ 5 10 15 20]\n",
    "#  [10 15 20 25]\n",
    "#  [15 20 25 30]]\n",
    "\n",
    "B = np.linalg.eigvals(A)  # 求A的特征值\n",
    "print(B)\n",
    "# [ 6.74165739e+01 -7.41657387e+00  1.82694656e-15 -1.72637110e-15]\n",
    "\n",
    "# 判断是不是所有的特征值都大于0，用到了all函数，显然对称阵A不是正定的\n",
    "if np.all(B > 0):\n",
    "    print('Yes')\n",
    "else:\n",
    "    print('No')\n",
    "# No"
   ]
  },
  {
   "cell_type": "markdown",
   "metadata": {},
   "source": [
    "## 矩阵分解\n",
    "### 奇异值分解\n",
    "有关奇异值分解的原理：奇异值分解（SVD）及其应用[https://mp.weixin.qq.com/s/GNHPamltnqaUpGG9NhvWxg]\n",
    "\n",
    "- u, s, v = numpy.linalg.svd(a, full_matrices=True, compute_uv=True, hermitian=False)奇异值分解\n",
    "- - a 是一个形如(M,N)矩阵\n",
    "- - full_matrices的取值是为False或者True，默认值为True，这时u的大小为(M,M)，v的大小为(N,N)。否则u的大小为(M,K)，v的大小为(K,N) ，K=min(M,N)。\n",
    "- - compute_uv的取值是为False或者True，默认值为True，表示计算u,s,v。为False的时候只计算s。\n",
    "- - 总共有三个返回值u,s,v，u大小为(M,M)，s大小为(M,N)，v大小为(N,N)，a = u*s*v。\n",
    "- -其中s是对矩阵a的奇异值分解。s除了对角元素不为0，其他元素都为0，并且对角元素从大到小排列。s中有n个奇异值，一般排在后面的比较接近0，所以仅保留比较大的r个奇异值。\n",
    "\n",
    "注：Numpy中返回的v是通常所谓奇异值分解a=u*s*v'中v的转置。"
   ]
  },
  {
   "cell_type": "code",
   "execution_count": 15,
   "metadata": {},
   "outputs": [
    {
     "name": "stdout",
     "output_type": "stream",
     "text": [
      "[[ 4 11 14]\n",
      " [ 8  7 -2]]\n",
      "(2, 2)\n",
      "[[-0.9486833  -0.31622777]\n",
      " [-0.31622777  0.9486833 ]]\n",
      "(2,)\n",
      "[[18.97366596  0.        ]\n",
      " [ 0.          9.48683298]]\n",
      "(2, 3)\n",
      "[[-0.33333333 -0.66666667 -0.66666667]\n",
      " [ 0.66666667  0.33333333 -0.66666667]]\n",
      "[[ 4. 11. 14.]\n",
      " [ 8.  7. -2.]]\n"
     ]
    }
   ],
   "source": [
    "import numpy as np\n",
    "\n",
    "A = np.array([[4, 11, 14], [8, 7, -2]])\n",
    "print(A)\n",
    "# [[ 4 11 14]\n",
    "#  [ 8  7 -2]]\n",
    "\n",
    "u, s, vh = np.linalg.svd(A, full_matrices=False)\n",
    "print(u.shape)  # (2, 2)\n",
    "print(u)\n",
    "# [[-0.9486833  -0.31622777]\n",
    "#  [-0.31622777  0.9486833 ]]\n",
    "\n",
    "print(s.shape)  # (2,)\n",
    "print(np.diag(s))\n",
    "# [[18.97366596  0.        ]\n",
    "#  [ 0.          9.48683298]]\n",
    "\n",
    "print(vh.shape)  # (2, 3)\n",
    "print(vh)\n",
    "# [[-0.33333333 -0.66666667 -0.66666667]\n",
    "#  [ 0.66666667  0.33333333 -0.66666667]]\n",
    "\n",
    "a = np.dot(u, np.diag(s))\n",
    "a = np.dot(a, vh)\n",
    "print(a)\n",
    "# [[ 4. 11. 14.]\n",
    "#  [ 8.  7. -2.]]"
   ]
  },
  {
   "cell_type": "code",
   "execution_count": 16,
   "metadata": {},
   "outputs": [
    {
     "name": "stdout",
     "output_type": "stream",
     "text": [
      "[[ 1  1]\n",
      " [ 1 -2]\n",
      " [ 2  1]]\n",
      "(3, 2)\n",
      "[[-5.34522484e-01 -1.11022302e-16]\n",
      " [ 2.67261242e-01 -9.48683298e-01]\n",
      " [-8.01783726e-01 -3.16227766e-01]]\n",
      "(2,)\n",
      "[[2.64575131 0.        ]\n",
      " [0.         2.23606798]]\n",
      "(2, 2)\n",
      "[[-0.70710678 -0.70710678]\n",
      " [-0.70710678  0.70710678]]\n",
      "[[ 1.  1.]\n",
      " [ 1. -2.]\n",
      " [ 2.  1.]]\n"
     ]
    }
   ],
   "source": [
    "import numpy as np\n",
    "\n",
    "A = np.array([[1, 1], [1, -2], [2, 1]])\n",
    "print(A)\n",
    "# [[ 1  1]\n",
    "#  [ 1 -2]\n",
    "#  [ 2  1]]\n",
    "\n",
    "u, s, vh = np.linalg.svd(A, full_matrices=False)\n",
    "print(u.shape)  # (3, 2)\n",
    "print(u)\n",
    "# [[-5.34522484e-01 -1.11022302e-16]\n",
    "#  [ 2.67261242e-01 -9.48683298e-01]\n",
    "#  [-8.01783726e-01 -3.16227766e-01]]\n",
    "\n",
    "print(s.shape)  # (2,)\n",
    "print(np.diag(s))\n",
    "# [[2.64575131 0.        ]\n",
    "#  [0.         2.23606798]]\n",
    "\n",
    "print(vh.shape)  # (2, 2)\n",
    "print(vh)\n",
    "# [[-0.70710678 -0.70710678]\n",
    "#  [-0.70710678  0.70710678]]\n",
    "\n",
    "a = np.dot(u, np.diag(s))\n",
    "a = np.dot(a, vh)\n",
    "print(a)\n",
    "# [[ 1.  1.]\n",
    "#  [ 1. -2.]\n",
    "#  [ 2.  1.]]"
   ]
  },
  {
   "cell_type": "markdown",
   "metadata": {},
   "source": [
    "## QR分解\n",
    "- q,r = numpy.linalg.qr(a, mode='reduced')计算矩阵a的QR分解。\n",
    "  - a是一个(M, N)的待分解矩阵。\n",
    "  - mode = reduced：返回(M, N)的列向量两两正交的矩阵q，和(N, N)的三角阵r（Reduced QR分解）。\n",
    "  - mode = complete：返回(M, M)的正交矩阵q，和(M, N)的三角阵r（Full QR分解）。\n",
    "  \n",
    "【例】"
   ]
  },
  {
   "cell_type": "code",
   "execution_count": 17,
   "metadata": {},
   "outputs": [
    {
     "name": "stdout",
     "output_type": "stream",
     "text": [
      "[[ 2 -2  3]\n",
      " [ 1  1  1]\n",
      " [ 1  3 -1]]\n",
      "(3, 3)\n",
      "[[-0.81649658  0.53452248  0.21821789]\n",
      " [-0.40824829 -0.26726124 -0.87287156]\n",
      " [-0.40824829 -0.80178373  0.43643578]]\n",
      "(3, 3)\n",
      "[[-2.44948974  0.         -2.44948974]\n",
      " [ 0.         -3.74165739  2.13808994]\n",
      " [ 0.          0.         -0.65465367]]\n",
      "[[ 2. -2.  3.]\n",
      " [ 1.  1.  1.]\n",
      " [ 1.  3. -1.]]\n",
      "True\n"
     ]
    }
   ],
   "source": [
    "import numpy as np\n",
    "\n",
    "A = np.array([[2, -2, 3], [1, 1, 1], [1, 3, -1]])\n",
    "print(A)\n",
    "# [[ 2 -2  3]\n",
    "#  [ 1  1  1]\n",
    "#  [ 1  3 -1]]\n",
    "\n",
    "q, r = np.linalg.qr(A)\n",
    "print(q.shape)  # (3, 3)\n",
    "print(q)\n",
    "# [[-0.81649658  0.53452248  0.21821789]\n",
    "#  [-0.40824829 -0.26726124 -0.87287156]\n",
    "#  [-0.40824829 -0.80178373  0.43643578]]\n",
    "\n",
    "print(r.shape)  # (3, 3)\n",
    "print(r)\n",
    "# [[-2.44948974  0.         -2.44948974]\n",
    "#  [ 0.         -3.74165739  2.13808994]\n",
    "#  [ 0.          0.         -0.65465367]]\n",
    "\n",
    "print(np.dot(q, r))\n",
    "# [[ 2. -2.  3.]\n",
    "#  [ 1.  1.  1.]\n",
    "#  [ 1.  3. -1.]]\n",
    "\n",
    "a = np.allclose(np.dot(q.T, q), np.eye(3))\n",
    "print(a)  # True"
   ]
  },
  {
   "cell_type": "code",
   "execution_count": 18,
   "metadata": {},
   "outputs": [
    {
     "name": "stdout",
     "output_type": "stream",
     "text": [
      "[[ 1  1]\n",
      " [ 1 -2]\n",
      " [ 2  1]]\n",
      "(3, 3)\n",
      "[[-0.40824829  0.34503278 -0.84515425]\n",
      " [-0.40824829 -0.89708523 -0.16903085]\n",
      " [-0.81649658  0.27602622  0.50709255]]\n",
      "(3, 2)\n",
      "[[-2.44948974 -0.40824829]\n",
      " [ 0.          2.41522946]\n",
      " [ 0.          0.        ]]\n",
      "[[ 1.  1.]\n",
      " [ 1. -2.]\n",
      " [ 2.  1.]]\n",
      "True\n"
     ]
    }
   ],
   "source": [
    "import numpy as np\n",
    "\n",
    "A = np.array([[1, 1], [1, -2], [2, 1]])\n",
    "print(A)\n",
    "# [[ 1  1]\n",
    "#  [ 1 -2]\n",
    "#  [ 2  1]]\n",
    "\n",
    "q, r = np.linalg.qr(A, mode='complete')\n",
    "print(q.shape)  # (3, 3)\n",
    "print(q)\n",
    "# [[-0.40824829  0.34503278 -0.84515425]\n",
    "#  [-0.40824829 -0.89708523 -0.16903085]\n",
    "#  [-0.81649658  0.27602622  0.50709255]]\n",
    "\n",
    "print(r.shape)  # (3, 2)\n",
    "print(r)\n",
    "# [[-2.44948974 -0.40824829]\n",
    "#  [ 0.          2.41522946]\n",
    "#  [ 0.          0.        ]]\n",
    "\n",
    "print(np.dot(q, r))\n",
    "# [[ 1.  1.]\n",
    "#  [ 1. -2.]\n",
    "#  [ 2.  1.]]\n",
    "\n",
    "a = np.allclose(np.dot(q, q.T), np.eye(3))\n",
    "print(a)  # True"
   ]
  },
  {
   "cell_type": "code",
   "execution_count": 19,
   "metadata": {},
   "outputs": [
    {
     "name": "stdout",
     "output_type": "stream",
     "text": [
      "[[ 1  1]\n",
      " [ 1 -2]\n",
      " [ 2  1]]\n",
      "(3, 2)\n",
      "[[-0.40824829  0.34503278]\n",
      " [-0.40824829 -0.89708523]\n",
      " [-0.81649658  0.27602622]]\n",
      "(2, 2)\n",
      "[[-2.44948974 -0.40824829]\n",
      " [ 0.          2.41522946]]\n",
      "[[ 1.  1.]\n",
      " [ 1. -2.]\n",
      " [ 2.  1.]]\n",
      "True\n"
     ]
    }
   ],
   "source": [
    "import numpy as np\n",
    "\n",
    "A = np.array([[1, 1], [1, -2], [2, 1]])\n",
    "print(A)\n",
    "# [[ 1  1]\n",
    "#  [ 1 -2]\n",
    "#  [ 2  1]]\n",
    "\n",
    "q, r = np.linalg.qr(A)\n",
    "print(q.shape)  # (3, 2)\n",
    "print(q)\n",
    "# [[-0.40824829  0.34503278]\n",
    "#  [-0.40824829 -0.89708523]\n",
    "#  [-0.81649658  0.27602622]]\n",
    "\n",
    "print(r.shape)  # (2, 2)\n",
    "print(r)\n",
    "# [[-2.44948974 -0.40824829]\n",
    "#  [ 0.          2.41522946]]\n",
    "\n",
    "print(np.dot(q, r))\n",
    "# [[ 1.  1.]\n",
    "#  [ 1. -2.]\n",
    "#  [ 2.  1.]]\n",
    "\n",
    "a = np.allclose(np.dot(q.T, q), np.eye(2))\n",
    "print(a)  # True   （说明q为正交矩阵）"
   ]
  },
  {
   "cell_type": "markdown",
   "metadata": {},
   "source": [
    "## Cholesky分解\n",
    "- L = numpy.linalg.cholesky(a) 返回正定矩阵a的 Cholesky 分解a = L*L.T，其中L是下三角。"
   ]
  },
  {
   "cell_type": "code",
   "execution_count": 20,
   "metadata": {},
   "outputs": [
    {
     "name": "stdout",
     "output_type": "stream",
     "text": [
      "[[1 1 1 1]\n",
      " [1 3 3 3]\n",
      " [1 3 5 5]\n",
      " [1 3 5 7]]\n",
      "[13.13707118  1.6199144   0.51978306  0.72323135]\n",
      "[[1.         0.         0.         0.        ]\n",
      " [1.         1.41421356 0.         0.        ]\n",
      " [1.         1.41421356 1.41421356 0.        ]\n",
      " [1.         1.41421356 1.41421356 1.41421356]]\n",
      "[[1. 1. 1. 1.]\n",
      " [1. 3. 3. 3.]\n",
      " [1. 3. 5. 5.]\n",
      " [1. 3. 5. 7.]]\n"
     ]
    }
   ],
   "source": [
    "import numpy as np\n",
    "\n",
    "A = np.array([[1, 1, 1, 1], [1, 3, 3, 3],\n",
    "              [1, 3, 5, 5], [1, 3, 5, 7]])\n",
    "print(A)\n",
    "# [[1 1 1 1]\n",
    "#  [1 3 3 3]\n",
    "#  [1 3 5 5]\n",
    "#  [1 3 5 7]]\n",
    "\n",
    "print(np.linalg.eigvals(A))\n",
    "# [13.13707118  1.6199144   0.51978306  0.72323135]\n",
    "\n",
    "L = np.linalg.cholesky(A)\n",
    "print(L)\n",
    "# [[1.         0.         0.         0.        ]\n",
    "#  [1.         1.41421356 0.         0.        ]\n",
    "#  [1.         1.41421356 1.41421356 0.        ]\n",
    "#  [1.         1.41421356 1.41421356 1.41421356]]\n",
    "\n",
    "print(np.dot(L, L.T))\n",
    "# [[1. 1. 1. 1.]\n",
    "#  [1. 3. 3. 3.]\n",
    "#  [1. 3. 5. 5.]\n",
    "#  [1. 3. 5. 7.]]"
   ]
  },
  {
   "cell_type": "markdown",
   "metadata": {},
   "source": [
    "## 范数和其它数字\n",
    "### 矩阵的范数\n",
    "- numpy.linalg.norm(x, ord=None, axis=None, keepdims=False) 计算向量或者矩阵的范数。\n",
    "\n",
    "根据ord参数的不同，计算不同的范数："
   ]
  },
  {
   "cell_type": "code",
   "execution_count": 21,
   "metadata": {},
   "outputs": [
    {
     "name": "stdout",
     "output_type": "stream",
     "text": [
      "10.0\n",
      "10\n",
      "5.477225575051661\n",
      "5.477225575051661\n",
      "1.0\n",
      "1\n",
      "4.0\n",
      "4\n"
     ]
    }
   ],
   "source": [
    "# 求向量的范数\n",
    "import numpy as np\n",
    "\n",
    "x = np.array([1, 2, 3, 4])\n",
    "\n",
    "print(np.linalg.norm(x, ord=1)) \n",
    "# 10.0\n",
    "print(np.sum(np.abs(x)))  \n",
    "# 10\n",
    "\n",
    "print(np.linalg.norm(x, ord=2))  \n",
    "# 5.477225575051661\n",
    "print(np.sum(np.abs(x) ** 2) ** 0.5)  \n",
    "# 5.477225575051661\n",
    "\n",
    "print(np.linalg.norm(x, ord=-np.inf))  \n",
    "# 1.0\n",
    "print(np.min(np.abs(x)))  \n",
    "# 1\n",
    "\n",
    "print(np.linalg.norm(x, ord=np.inf))  \n",
    "# 4.0\n",
    "print(np.max(np.abs(x)))  \n",
    "# 4"
   ]
  },
  {
   "cell_type": "code",
   "execution_count": 22,
   "metadata": {},
   "outputs": [
    {
     "name": "stdout",
     "output_type": "stream",
     "text": [
      "[[ 1  2  3  4]\n",
      " [ 2  3  5  8]\n",
      " [ 1  3  5  7]\n",
      " [ 3  4  7 11]]\n",
      "30.0\n",
      "30\n",
      "20.24345358700576\n",
      "20.24345358700576\n",
      "25.0\n",
      "25\n",
      "20.273134932713294\n",
      "20.273134932713294\n"
     ]
    }
   ],
   "source": [
    "# 求矩阵的范数\n",
    "import numpy as np\n",
    "\n",
    "A = np.array([[1, 2, 3, 4], [2, 3, 5, 8],\n",
    "              [1, 3, 5, 7], [3, 4, 7, 11]])\n",
    "\n",
    "print(A)\n",
    "# [[ 1  2  3  4]\n",
    "#  [ 2  3  5  8]\n",
    "#  [ 1  3  5  7]\n",
    "#  [ 3  4  7 11]]\n",
    "\n",
    "print(np.linalg.norm(A, ord=1))  # 30.0\n",
    "print(np.max(np.sum(A, axis=0)))  # 30\n",
    "\n",
    "print(np.linalg.norm(A, ord=2))  \n",
    "# 20.24345358700576\n",
    "print(np.max(np.linalg.svd(A, compute_uv=False)))  \n",
    "# 20.24345358700576\n",
    "\n",
    "print(np.linalg.norm(A, ord=np.inf))  # 25.0\n",
    "print(np.max(np.sum(A, axis=1)))  # 25\n",
    "\n",
    "print(np.linalg.norm(A, ord='fro'))  \n",
    "# 20.273134932713294\n",
    "print(np.sqrt(np.trace(np.dot(A.T, A))))  \n",
    "# 20.273134932713294"
   ]
  },
  {
   "cell_type": "markdown",
   "metadata": {},
   "source": [
    "### 方阵的行列式\n",
    "- numpy.linalg.det(a) 计算行列式。\n",
    "\n",
    "【例】计算行列式。"
   ]
  },
  {
   "cell_type": "code",
   "execution_count": 23,
   "metadata": {},
   "outputs": [
    {
     "name": "stdout",
     "output_type": "stream",
     "text": [
      "[[1 2]\n",
      " [3 4]]\n",
      "-2.0000000000000004\n"
     ]
    }
   ],
   "source": [
    "import numpy as np\n",
    "\n",
    "x = np.array([[1, 2], [3, 4]])\n",
    "print(x)\n",
    "# [[1 2]\n",
    "#  [3 4]]\n",
    "\n",
    "print(np.linalg.det(x))\n",
    "# -2.0000000000000004"
   ]
  },
  {
   "cell_type": "markdown",
   "metadata": {},
   "source": [
    "## 矩阵的秩\n",
    "- numpy.linalg.matrix_rank(M, tol=None, hermitian=False) 返回矩阵的秩。\n",
    "\n",
    "【例】计算矩阵的秩。"
   ]
  },
  {
   "cell_type": "code",
   "execution_count": 24,
   "metadata": {},
   "outputs": [
    {
     "name": "stdout",
     "output_type": "stream",
     "text": [
      "[[1. 0. 0.]\n",
      " [0. 1. 0.]\n",
      " [0. 0. 1.]]\n",
      "3\n",
      "[[1. 0. 0.]\n",
      " [0. 0. 0.]\n",
      " [0. 0. 1.]]\n",
      "2\n"
     ]
    }
   ],
   "source": [
    "import numpy as np\n",
    "\n",
    "I = np.eye(3)  # 先创建一个单位阵\n",
    "print(I)\n",
    "# [[1. 0. 0.]\n",
    "#  [0. 1. 0.]\n",
    "#  [0. 0. 1.]]\n",
    "\n",
    "r = np.linalg.matrix_rank(I)\n",
    "print(r)  # 3\n",
    "\n",
    "I[1, 1] = 0  # 将该元素置为0\n",
    "print(I)\n",
    "# [[1. 0. 0.]\n",
    "#  [0. 0. 0.]\n",
    "#  [0. 0. 1.]]\n",
    "\n",
    "r = np.linalg.matrix_rank(I)  # 此时秩变成2\n",
    "print(r)  # 2"
   ]
  },
  {
   "cell_type": "markdown",
   "metadata": {},
   "source": [
    "## 矩阵的迹\n",
    "- numpy.trace(a, offset=0, axis1=0, axis2=1, dtype=None, out=None) 方阵的迹就是主对角元素之和。\n",
    "\n",
    "【例】计算方阵的迹。"
   ]
  },
  {
   "cell_type": "code",
   "execution_count": 25,
   "metadata": {},
   "outputs": [
    {
     "name": "stdout",
     "output_type": "stream",
     "text": [
      "[[1 2 3]\n",
      " [3 4 5]\n",
      " [6 7 8]]\n",
      "[[5 4 2]\n",
      " [1 7 9]\n",
      " [0 4 5]]\n",
      "13\n",
      "13\n",
      "30\n",
      "30\n"
     ]
    }
   ],
   "source": [
    "import numpy as np\n",
    "\n",
    "x = np.array([[1, 2, 3], [3, 4, 5], [6, 7, 8]])\n",
    "print(x)\n",
    "# [[1 2 3]\n",
    "#  [3 4 5]\n",
    "#  [6 7 8]]\n",
    "\n",
    "y = np.array([[5, 4, 2], [1, 7, 9], [0, 4, 5]])\n",
    "print(y)\n",
    "# [[5 4 2]\n",
    "#  [1 7 9]\n",
    "#  [0 4 5]]\n",
    "\n",
    "print(np.trace(x))  # A的迹等于A.T的迹\n",
    "# 13\n",
    "print(np.trace(np.transpose(x)))\n",
    "# 13\n",
    "\n",
    "print(np.trace(x + y))  # 和的迹 等于 迹的和\n",
    "# 30\n",
    "print(np.trace(x) + np.trace(y))\n",
    "# 30"
   ]
  },
  {
   "cell_type": "markdown",
   "metadata": {},
   "source": [
    "## 解方程和逆矩阵\n",
    "### 逆矩阵（inverse matrix）\n",
    "设 A 是数域上的一个 n 阶矩阵，若在相同数域上存在另一个 n 阶矩阵 B，使得：AB=BA=E（E 为单位矩阵），则我们称 B 是 A 的逆矩阵，而 A 则被称为可逆矩阵。\n",
    "\n",
    "- numpy.linalg.inv(a) 计算矩阵a的逆矩阵（矩阵可逆的充要条件：det(a) != 0，或者a满秩）。\n",
    "\n",
    "【例】计算矩阵的逆矩阵。"
   ]
  },
  {
   "cell_type": "code",
   "execution_count": 26,
   "metadata": {},
   "outputs": [
    {
     "name": "stdout",
     "output_type": "stream",
     "text": [
      "[[ 1 -2  1]\n",
      " [ 0  2 -1]\n",
      " [ 1  1 -2]]\n",
      "-2.9999999999999996\n",
      "[[ 1.00000000e+00  1.00000000e+00 -1.11022302e-16]\n",
      " [ 3.33333333e-01  1.00000000e+00 -3.33333333e-01]\n",
      " [ 6.66666667e-01  1.00000000e+00 -6.66666667e-01]]\n",
      "True\n",
      "True\n",
      "[[-3.00000000e+00 -3.00000000e+00  3.33066907e-16]\n",
      " [-1.00000000e+00 -3.00000000e+00  1.00000000e+00]\n",
      " [-2.00000000e+00 -3.00000000e+00  2.00000000e+00]]\n"
     ]
    }
   ],
   "source": [
    "import numpy as np\n",
    "\n",
    "A = np.array([[1, -2, 1], [0, 2, -1], [1, 1, -2]])\n",
    "print(A)\n",
    "# [[ 1 -2  1]\n",
    "#  [ 0  2 -1]\n",
    "#  [ 1  1 -2]]\n",
    "\n",
    "# 求A的行列式，不为零则存在逆矩阵\n",
    "A_det = np.linalg.det(A)  \n",
    "print(A_det)\n",
    "# -2.9999999999999996\n",
    "\n",
    "A_inverse = np.linalg.inv(A)  # 求A的逆矩阵\n",
    "print(A_inverse)\n",
    "# [[ 1.00000000e+00  1.00000000e+00 -1.11022302e-16]\n",
    "#  [ 3.33333333e-01  1.00000000e+00 -3.33333333e-01]\n",
    "#  [ 6.66666667e-01  1.00000000e+00 -6.66666667e-01]]\n",
    "\n",
    "x = np.allclose(np.dot(A, A_inverse), np.eye(3))\n",
    "print(x)  # True\n",
    "x = np.allclose(np.dot(A_inverse, A), np.eye(3))\n",
    "print(x)  # True\n",
    "\n",
    "A_companion = A_inverse * A_det  # 求A的伴随矩阵\n",
    "print(A_companion)\n",
    "# [[-3.00000000e+00 -3.00000000e+00  3.33066907e-16]\n",
    "#  [-1.00000000e+00 -3.00000000e+00  1.00000000e+00]\n",
    "#  [-2.00000000e+00 -3.00000000e+00  2.00000000e+00]]"
   ]
  },
  {
   "cell_type": "markdown",
   "metadata": {},
   "source": [
    "## 求解线性方程组\n",
    "- numpy.linalg.solve(a, b) 求解线性方程组或矩阵方程。\n",
    "\n",
    "【例】求解线性矩阵方程"
   ]
  },
  {
   "cell_type": "code",
   "execution_count": 27,
   "metadata": {},
   "outputs": [
    {
     "name": "stdout",
     "output_type": "stream",
     "text": [
      "[ 7.  1. -2.]\n",
      "[ 7.  1. -2.]\n",
      "True\n"
     ]
    }
   ],
   "source": [
    "#  x + 2y +  z = 7\n",
    "# 2x -  y + 3z = 7\n",
    "# 3x +  y + 2z =18\n",
    "\n",
    "import numpy as np\n",
    "\n",
    "A = np.array([[1, 2, 1], [2, -1, 3], [3, 1, 2]])\n",
    "b = np.array([7, 7, 18])\n",
    "x = np.linalg.solve(A, b)\n",
    "print(x)  # [ 7.  1. -2.]\n",
    "\n",
    "x = np.linalg.inv(A).dot(b)\n",
    "print(x)  # [ 7.  1. -2.]\n",
    "\n",
    "y = np.allclose(np.dot(A, x), b)\n",
    "print(y)  # True"
   ]
  },
  {
   "cell_type": "markdown",
   "metadata": {},
   "source": [
    "参考文献\n",
    "\n",
    "https://www.cnblogs.com/moon1992/p/4960700.html\n",
    "https://www.cnblogs.com/moon1992/p/4948793.html"
   ]
  },
  {
   "cell_type": "markdown",
   "metadata": {},
   "source": [
    "练习\n",
    "（1）计算两个数组a和数组b之间的欧氏距离。\n",
    "\n",
    "- a = np.array([1, 2, 3, 4, 5])\n",
    "- b = np.array([4, 5, 6, 7, 8])\n",
    "\n",
    "【知识点：数学函数、线性代数】\n",
    "\n",
    "- 如何计算两个数组之间的欧式距离？\n",
    "\n",
    "（2）计算矩阵的行列式和矩阵的逆\n",
    "\n",
    "【知识点：线性代数】"
   ]
  },
  {
   "cell_type": "code",
   "execution_count": null,
   "metadata": {},
   "outputs": [],
   "source": [
    "np.diag([5,5,5,5,5])\n",
    "\n",
    "array([[5, 0, 0, 0, 0],\n",
    "       [0, 5, 0, 0, 0],\n",
    "       [0, 0, 5, 0, 0],\n",
    "       [0, 0, 0, 5, 0],\n",
    "       [0, 0, 0, 0, 5]])"
   ]
  },
  {
   "cell_type": "markdown",
   "metadata": {},
   "source": [
    "（3）给定矩阵A和数组b，求解线性方程组：\n",
    "\n",
    "【知识点：线性代数】"
   ]
  },
  {
   "cell_type": "code",
   "execution_count": null,
   "metadata": {},
   "outputs": [],
   "source": [
    "import numpy  as np\n",
    "A=np.array([[1, -2, 1],[0 ,2 ,-8],[-4, 5 ,9]])\n",
    "b=np.array([0,8,-9])"
   ]
  },
  {
   "cell_type": "markdown",
   "metadata": {},
   "source": [
    "（4）给定矩阵A[[4,-1,1],[-1,3,-2],[1,-2,3]]计算特征值和特征向量\n",
    "\n",
    "【知识点：线性代数】"
   ]
  },
  {
   "cell_type": "markdown",
   "metadata": {},
   "source": [
    "## 关于求解矩阵特征值与特征向量\n",
    "### 幂法"
   ]
  },
  {
   "cell_type": "code",
   "execution_count": 28,
   "metadata": {},
   "outputs": [
    {
     "name": "stdout",
     "output_type": "stream",
     "text": [
      "特征值为\n",
      "[[1]]\n",
      "特征向量为\n",
      "[[0.]\n",
      " [1.]\n",
      " [1.]]\n"
     ]
    }
   ],
   "source": [
    "import numpy as np\n",
    "\n",
    "a = [[4,-1,1],[-1,3,-2],[1,-2,3]]#系数矩阵\n",
    "A = np.mat(a)\n",
    "N = len(A)\n",
    "# U  = np.mat([1]*N).T\n",
    "# V  = np.mat([1]*N).T\n",
    "U  = np.mat([0,1,1]).T\n",
    "V  = np.mat([0,1,1]).T\n",
    "sigma = 0.000001#精度\n",
    "M = 1000#最大迭代次数\n",
    "m = 1\n",
    "k = 0\n",
    "before = m\n",
    "while(k<M):\n",
    "    before = m\n",
    "    V = A*U\n",
    "    m = max(V)#[0,0]\n",
    "    U = V/m\n",
    "    if(abs(m-before)<sigma):\n",
    "        print(\"特征值为\",(m),sep='\\n')\n",
    "        print(\"特征向量为\",(U),sep='\\n')\n",
    "        break\n",
    "    k += 1\n",
    "if k==M:\n",
    "    print('计算失败，k=',k)"
   ]
  },
  {
   "cell_type": "markdown",
   "metadata": {},
   "source": [
    "## 反幂法"
   ]
  },
  {
   "cell_type": "code",
   "execution_count": 29,
   "metadata": {},
   "outputs": [
    {
     "name": "stdout",
     "output_type": "stream",
     "text": [
      "特征值为\n",
      "1.0000004180226196\n",
      "特征向量为\n",
      "[[4.18175751e-07]\n",
      " [1.00000000e+00]\n",
      " [9.99999582e-01]]\n"
     ]
    }
   ],
   "source": [
    "import numpy as np\n",
    "a = [[4,-1,1],[-1,3,-2],[1,-2,3]]#系数矩阵\n",
    "N = len(a)\n",
    "\n",
    "A = np.mat(a)\n",
    "U  = np.mat([1]*N).T\n",
    "V  = np.mat([1]*N).T\n",
    "sigma = 0.000001#精度\n",
    "M = 1000#最大迭代次数\n",
    "m = 1\n",
    "k = 0\n",
    "before = m\n",
    "while(k<M):\n",
    "    before = m\n",
    "    V = A.I*U\n",
    "    m = max(V)[0,0]\n",
    "    U = V/m\n",
    "    if(abs(m-before)<sigma):\n",
    "        print(\"特征值为\",(1/m),sep='\\n')\n",
    "        print(\"特征向量为\",(U),sep='\\n')\n",
    "        break\n",
    "    k += 1\n",
    "if k==M:\n",
    "    print('计算失败，k=',k)"
   ]
  },
  {
   "cell_type": "markdown",
   "metadata": {},
   "source": [
    "## 原点平移加速法"
   ]
  },
  {
   "cell_type": "code",
   "execution_count": 30,
   "metadata": {},
   "outputs": [
    {
     "name": "stdout",
     "output_type": "stream",
     "text": [
      "特征值为\n",
      "0.28571432316995005\n",
      "特征向量为\n",
      "[[ 1.        ]\n",
      " [-1.00000006]\n",
      " [ 0.99999994]]\n"
     ]
    }
   ],
   "source": [
    "import numpy as np\n",
    "# a = [[4,-1,1],[-1,3,-2],[1,-2,3]]#系数矩阵\n",
    "a = [[4,-1,1],[-1,3,-2],[1,-2,3]]#系数矩阵\n",
    "N = len(a)\n",
    "#原点加速法:\n",
    "step = 2.5\n",
    "for i in range(N):\n",
    "    a[i][i] -=step\n",
    "A = np.mat(a)\n",
    "\n",
    "U  = np.mat([1]*N).T\n",
    "V  = np.mat([1]*N).T\n",
    "sigma = 0.000001#精度\n",
    "M = 1000#最大迭代次数\n",
    "m = 1\n",
    "k = 0\n",
    "before = m\n",
    "while(k<M):\n",
    "    before = m\n",
    "    V = A*U\n",
    "    m = max(V)[0,0]\n",
    "    U = V/m\n",
    "    if(abs(m-before)<sigma):\n",
    "        print(\"特征值为\",(1/m),sep='\\n')\n",
    "        print(\"特征向量为\",(U),sep='\\n')\n",
    "        break\n",
    "    k += 1\n",
    "if k==M:\n",
    "    print('计算失败，k=',k)"
   ]
  },
  {
   "cell_type": "code",
   "execution_count": 31,
   "metadata": {},
   "outputs": [
    {
     "name": "stdout",
     "output_type": "stream",
     "text": [
      "[3. 6. 1.]\n",
      "(array([3., 6., 1.]), matrix([[-8.16496581e-01, -5.77350269e-01,  3.89855447e-17],\n",
      "        [-4.08248290e-01,  5.77350269e-01,  7.07106781e-01],\n",
      "        [ 4.08248290e-01, -5.77350269e-01,  7.07106781e-01]]))\n"
     ]
    }
   ],
   "source": [
    "import numpy as np\n",
    "a = [[4,-1,1],[-1,3,-2],[1,-2,3]]#系数矩阵\n",
    "N = len(a)\n",
    "\n",
    "A = np.mat(a)\n",
    "#计算特征值\n",
    "print(np.linalg.eigvals(A))\n",
    "#计算特征向量\n",
    "print(np.linalg.eig(A))\n",
    "\n",
    "\n"
   ]
  },
  {
   "cell_type": "code",
   "execution_count": null,
   "metadata": {},
   "outputs": [],
   "source": []
  }
 ],
 "metadata": {
  "kernelspec": {
   "display_name": "Python 3",
   "language": "python",
   "name": "python3"
  },
  "language_info": {
   "codemirror_mode": {
    "name": "ipython",
    "version": 3
   },
   "file_extension": ".py",
   "mimetype": "text/x-python",
   "name": "python",
   "nbconvert_exporter": "python",
   "pygments_lexer": "ipython3",
   "version": "3.7.1"
  }
 },
 "nbformat": 4,
 "nbformat_minor": 2
}
